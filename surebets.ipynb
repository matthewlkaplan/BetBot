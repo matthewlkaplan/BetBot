{
 "cells": [
  {
   "cell_type": "markdown",
   "id": "2c52e516",
   "metadata": {},
   "source": [
    "#### Import dependencies"
   ]
  },
  {
   "cell_type": "code",
   "execution_count": 5,
   "id": "0832c7cb",
   "metadata": {},
   "outputs": [],
   "source": [
    "import matplotlib.pyplot as plt\n",
    "import numpy as np"
   ]
  },
  {
   "cell_type": "markdown",
   "id": "f6113740",
   "metadata": {},
   "source": [
    "#### Let's take a look what it takes for two odds to present an arbitrage opportunity:\n",
    "The odds must satisfy the following equation:   1/odd1 + 1/odd2 < 1, where odd1 and odd2 are decimal odds [1, ∞)"
   ]
  },
  {
   "cell_type": "code",
   "execution_count": 2,
   "id": "4c7665a1",
   "metadata": {},
   "outputs": [],
   "source": [
    "def surebet(odd1, odd2):\n",
    "    odd1 = round(float(odd1), 2)\n",
    "    odd2 = round(float(odd2), 2)\n",
    "    if 1/odd1 + 1/odd2 < 1:\n",
    "        return True\n",
    "    else:\n",
    "        return False"
   ]
  },
  {
   "cell_type": "markdown",
   "id": "3d88e69a",
   "metadata": {},
   "source": [
    "#### We can visualize this inequality with the following graph:"
   ]
  },
  {
   "cell_type": "code",
   "execution_count": 197,
   "id": "c45f499d",
   "metadata": {
    "scrolled": true
   },
   "outputs": [
    {
     "data": {
      "image/png": "[encoded data removed]",
      "text/plain": [
       "<Figure size 432x432 with 1 Axes>"
      ]
     },
     "metadata": {
      "needs_background": "light"
     },
     "output_type": "display_data"
    }
   ],
   "source": [
    "x = np.linspace(0, 10, 100)\n",
    "y = -x/(1-x)\n",
    "\n",
    "plt.figure(figsize=(6, 6))\n",
    "plt.plot(x, y, 'g')\n",
    "\n",
    "plt.xlim([1, 5])\n",
    "plt.ylim([1, 5])\n",
    "\n",
    "plt.fill_between(x, y, 100, color='green', alpha=0.1)\n",
    "\n",
    "plt.plot(1.8, 2.25, 'yo')\n",
    "plt.plot(1.5, 1.7, 'ro')\n",
    "plt.plot(2.4, 1.8, 'bo')\n",
    "\n",
    "plt.annotate('Break Even', (1.85, 2.30))\n",
    "plt.annotate('Profit (surebet)', (2.45, 1.85))\n",
    "plt.annotate('Loss', (1.55, 1.75))\n",
    "\n",
    "plt.show()"
   ]
  },
  {
   "cell_type": "markdown",
   "id": "8bbf381a",
   "metadata": {},
   "source": [
    "#### Now that we know what qualifies as a surebet, let's start pulling some data\n",
    "I'll be using an API called API-Baseball that provides live MLB odds for a variety of events\n",
    "We'll need to import requests to communicate with this API"
   ]
  },
  {
   "cell_type": "code",
   "execution_count": 204,
   "id": "f71662e4",
   "metadata": {},
   "outputs": [],
   "source": [
    "import requests\n",
    "import json"
   ]
  },
  {
   "cell_type": "markdown",
   "id": "ff61899c",
   "metadata": {},
   "source": [
    "Now we can send a request for all odds in a particular game\n",
    "For this example, let's choose the Yankees vs. Red Sox game on July 10, 2022, which has a game ID of 73550"
   ]
  },
  {
   "cell_type": "code",
   "execution_count": 209,
   "id": "df5d7dd9",
   "metadata": {},
   "outputs": [
    {
     "data": {
      "text/plain": [
       "{'id': 23,\n",
       " 'name': 'NordicBet',\n",
       " 'bets': [{'id': 14,\n",
       "   'name': 'Match Winner',\n",
       "   'values': [{'value': 'Home', 'odd': '2.15'},\n",
       "    {'value': 'Draw', 'odd': '8.50'},\n",
       "    {'value': 'Away', 'odd': '1.95'}]},\n",
       "  {'id': 1,\n",
       "   'name': 'Home/Away',\n",
       "   'values': [{'value': 'Home', 'odd': '2.00'},\n",
       "    {'value': 'Away', 'odd': '1.83'}]},\n",
       "  {'id': 2,\n",
       "   'name': 'Asian Handicap',\n",
       "   'values': [{'value': 'Home -1.5', 'odd': '3.10'},\n",
       "    {'value': 'Away -1.5', 'odd': '1.38'},\n",
       "    {'value': 'Home +1.5', 'odd': '1.62'},\n",
       "    {'value': 'Away +1.5', 'odd': '2.35'},\n",
       "    {'value': 'Home +2.5', 'odd': '1.41'},\n",
       "    {'value': 'Away +2.5', 'odd': '2.95'},\n",
       "    {'value': 'Home +3.5', 'odd': '1.27'},\n",
       "    {'value': 'Away +3.5', 'odd': '3.80'}]},\n",
       "  {'id': 5,\n",
       "   'name': 'Over/Under',\n",
       "   'values': [{'value': 'Over 9.5', 'odd': '2.55'},\n",
       "    {'value': 'Under 9.5', 'odd': '1.54'},\n",
       "    {'value': 'Over 7.5', 'odd': '1.71'},\n",
       "    {'value': 'Under 7.5', 'odd': '2.20'},\n",
       "    {'value': 'Over 8.5', 'odd': '2.05'},\n",
       "    {'value': 'Under 8.5', 'odd': '1.80'},\n",
       "    {'value': 'Over 8', 'odd': '1.83'},\n",
       "    {'value': 'Under 8', 'odd': '2.00'},\n",
       "    {'value': 'Over 9', 'odd': '2.30'},\n",
       "    {'value': 'Under 9', 'odd': '1.65'}]},\n",
       "  {'id': 57,\n",
       "   'name': 'Odd/Even',\n",
       "   'values': [{'value': 'Odd', 'odd': '1.56'},\n",
       "    {'value': 'Even', 'odd': '2.35'}]},\n",
       "  {'id': 6,\n",
       "   'name': 'Over/Under (1st 5 Innings)',\n",
       "   'values': [{'value': 'Over 4.5', 'odd': '2.00'},\n",
       "    {'value': 'Under 4.5', 'odd': '1.83'}]},\n",
       "  {'id': 3,\n",
       "   'name': 'Asian Handicap (1st 5 Innings)',\n",
       "   'values': [{'value': 'Home +0.5', 'odd': '1.77'},\n",
       "    {'value': 'Away +0.5', 'odd': '2.10'}]},\n",
       "  {'id': 29,\n",
       "   'name': '1x2 (1st 5 Innings)',\n",
       "   'values': [{'value': 'Home', 'odd': '2.25'},\n",
       "    {'value': 'Draw', 'odd': '5.70'},\n",
       "    {'value': 'Away', 'odd': '2.10'}]},\n",
       "  {'id': 11,\n",
       "   'name': 'Over/Under (1st Inning)',\n",
       "   'values': [{'value': 'Over 0.5', 'odd': '1.95'},\n",
       "    {'value': 'Under 0.5', 'odd': '1.87'}]},\n",
       "  {'id': 41,\n",
       "   'name': 'Total Hits',\n",
       "   'values': [{'value': 'Over 16.5', 'odd': '1.85'},\n",
       "    {'value': 'Under 16.5', 'odd': '1.85'}]},\n",
       "  {'id': 4,\n",
       "   'name': 'Money Line (1st 5 Innings)',\n",
       "   'values': [{'value': 'Home', 'odd': '2.10'},\n",
       "    {'value': 'Away', 'odd': '1.77'}]},\n",
       "  {'id': 34,\n",
       "   'name': 'Money Line (1st 3 Innings)',\n",
       "   'values': [{'value': 'Home', 'odd': '2.10'},\n",
       "    {'value': 'Away', 'odd': '1.77'}]},\n",
       "  {'id': 36,\n",
       "   'name': '1x2 (1st 3 Innings)',\n",
       "   'values': [{'value': 'Home', 'odd': '2.50'},\n",
       "    {'value': 'Draw', 'odd': '3.70'},\n",
       "    {'value': 'Away', 'odd': '2.35'}]},\n",
       "  {'id': 43,\n",
       "   'name': 'Home Team Total Goals (Including OT)',\n",
       "   'values': [{'value': 'Over 4', 'odd': '2.00'},\n",
       "    {'value': 'Under 4', 'odd': '1.83'}]},\n",
       "  {'id': 44,\n",
       "   'name': 'Away Team Total Goals (Including OT)',\n",
       "   'values': [{'value': 'Over 4', 'odd': '1.87'},\n",
       "    {'value': 'Under 4', 'odd': '1.95'}]},\n",
       "  {'id': 48,\n",
       "   'name': '1x2 (1st 7 Innings)',\n",
       "   'values': [{'value': 'Home', 'odd': '2.20'},\n",
       "    {'value': 'Draw', 'odd': '7.30'},\n",
       "    {'value': 'Away', 'odd': '2.00'}]},\n",
       "  {'id': 47,\n",
       "   'name': 'Money Line (1st 7 Innings)',\n",
       "   'values': [{'value': 'Home', 'odd': '2.00'},\n",
       "    {'value': 'Away', 'odd': '1.83'}]}]}"
      ]
     },
     "execution_count": 209,
     "metadata": {},
     "output_type": "execute_result"
    }
   ],
   "source": [
    "game_id = 73550\n",
    "url = f'https://v1.baseball.api-sports.io/odds?game={game_id}' # API URL \n",
    "\n",
    "payload = {}\n",
    "headers = {\n",
    "    'x-rapidapi-key': '0e67e49360a2c88c8f6f4955877c3808', # my API key\n",
    "    'xx-rapidapi-host': 'v1.baseball.api-sports.io', # API host URL\n",
    "}\n",
    "\n",
    "response = requests.request(\"GET\", url, headers=headers, data=payload) # send a request to the API\n",
    "data = response.json()['response'][0] # load the data in a new var\n",
    "\n",
    "data['bookmakers'][0] # print out all bets offered by the first bookmaker, NordicBet"
   ]
  },
  {
   "cell_type": "code",
   "execution_count": null,
   "id": "1ab60ffa",
   "metadata": {},
   "outputs": [],
   "source": []
  }
 ],
 "metadata": {
  "kernelspec": {
   "display_name": "Python 3 (ipykernel)",
   "language": "python",
   "name": "python3"
  },
  "language_info": {
   "codemirror_mode": {
    "name": "ipython",
    "version": 3
   },
   "file_extension": ".py",
   "mimetype": "text/x-python",
   "name": "python",
   "nbconvert_exporter": "python",
   "pygments_lexer": "ipython3",
   "version": "3.8.2"
  }
 },
 "nbformat": 4,
 "nbformat_minor": 5
}
